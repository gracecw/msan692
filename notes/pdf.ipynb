{
 "cells": [
  {
   "cell_type": "markdown",
   "metadata": {},
   "source": [
    "# Extracting text from PDFs\n",
    "\n",
    "PDF files are effectively restricted versions of PostScript files, what you might've heard of. PDF files are actually programs in a very simple programming language and hence can display just about anything. Much of what you see inside a PDF file is text, however, and we can grab that text without the layout information using [pdf2txt.py](https://euske.github.io/pdfminer/). Install it with:\n",
    " \n",
    "```bash\n",
    "$ pip install pdfminer\n",
    "```\n",
    "\n",
    "Then use `pdf2txt.py` as a command from the commandline, which will spit the text out to standard output. First download a sample PDF, such as [Dr_Maxwell_Glen_Berry.pdf](https://www.eisenhower.archives.gov/education/articles/Dr_Maxwell_Glen_Berry.pdf), which we can easily do from the command line using `curl` (which you might have to install):"
   ]
  },
  {
   "cell_type": "code",
   "execution_count": 1,
   "metadata": {
    "collapsed": false
   },
   "outputs": [
    {
     "name": "stdout",
     "output_type": "stream",
     "text": [
      "  % Total    % Received % Xferd  Average Speed   Time    Time     Time  Current\n",
      "                                 Dload  Upload   Total   Spent    Left  Speed\n",
      "100  306k  100  306k    0     0  70690      0  0:00:04  0:00:04 --:--:-- 77046\n"
     ]
    }
   ],
   "source": [
    "! curl https://www.eisenhower.archives.gov/education/articles/Dr_Maxwell_Glen_Berry.pdf > /tmp/t.pdf"
   ]
  },
  {
   "cell_type": "markdown",
   "metadata": {},
   "source": [
    "That command downloads the file and because of the redirection operator, `>`, the output gets written to `t.pdf` up in `/tmp` directory.\n",
    "\n",
    "Once we have the data, we can pass the filename to `pdf2txt.py` to extract the text:"
   ]
  },
  {
   "cell_type": "code",
   "execution_count": 3,
   "metadata": {
    "collapsed": false
   },
   "outputs": [
    {
     "name": "stdout",
     "output_type": "stream",
     "text": [
      "World War II Remembered is a multi-year exhibition currently on display at the Eisenhower Presidential Museum.  The \r\n",
      "article  that  follows  is  a  special  feature  of  this  exhibition,  the  sixth  in  a  series  created  to  honor  and  educate  about  the \r\n",
      "generation  that  won  World  War  II.    Featured  are  the  stories  of  real  people  from  the  “World  War  II  Participants  and \r\n",
      "Contemporaries” collection, held and preserved in the archives of the Eisenhower Presidential Library.   \r\n",
      " \r\n",
      "\r\n",
      "     Dr. Maxwell Glen Berry  \r\n",
      "     Mission, Kansas \r\n",
      "     U.S. Army, Pacific Theater \r\n",
      " \r\n"
     ]
    }
   ],
   "source": [
    "! pdf2txt.py /tmp/t.pdf | head -10"
   ]
  },
  {
   "cell_type": "markdown",
   "metadata": {},
   "source": [
    "Now, redirect that text to a file using the bash `>` operator or the `-o` option on `pdf2txt.py`."
   ]
  },
  {
   "cell_type": "code",
   "execution_count": 4,
   "metadata": {
    "collapsed": false
   },
   "outputs": [
    {
     "name": "stdout",
     "output_type": "stream",
     "text": [
      "World War II Remembered is a multi-year exhibition currently on display at the Eisenhower Presidential Museum.  The \r\n",
      "article  that  follows  is  a  special  feature  of  this  exhibition,  the  sixth  in  a  series  created  to  honor  and  educate  about  the \r\n",
      "generation  that  won  World  War  II.    Featured  are  the  stories  of  real  people  from  the  “World  War  II  Participants  and \r\n",
      "Contemporaries” collection, held and preserved in the archives of the Eisenhower Presidential Library.   \r\n",
      " \r\n",
      "\r\n",
      "     Dr. Maxwell Glen Berry  \r\n",
      "     Mission, Kansas \r\n",
      "     U.S. Army, Pacific Theater \r\n",
      " \r\n"
     ]
    }
   ],
   "source": [
    "! pdf2txt.py /tmp/t.pdf > /tmp/t.txt\n",
    "! pdf2txt.py -o /tmp/t.txt /tmp/t.pdf\n",
    "! head -10 /tmp/t.txt"
   ]
  },
  {
   "cell_type": "markdown",
   "metadata": {},
   "source": [
    "Once you have text output, you can perform whatever analysis you'd like without having to worry about the data coming in PDF form. For example, you might want to run some analysis on financial documents but they are all in PDF. First, convert to text and then perform your analysis."
   ]
  },
  {
   "cell_type": "markdown",
   "metadata": {},
   "source": [
    "### Exercise\n",
    "\n",
    "Read that text file with a Python script and split the document into a list of words. Print out the first 100 words. It should look like:\n",
    "\n",
    "```\n",
    "['World', 'War', 'II', 'Remembered', 'is', 'a', 'multi-year', 'exhibition', ... ]\n",
    "```"
   ]
  },
  {
   "cell_type": "code",
   "execution_count": 12,
   "metadata": {
    "collapsed": false
   },
   "outputs": [
    {
     "name": "stdout",
     "output_type": "stream",
     "text": [
      "['World', 'War', 'II', 'Remembered', 'is', 'a', 'multi-year', 'exhibition', 'currently', 'on', 'display', 'at', 'the', 'Eisenhower', 'Presidential', 'Museum.', '', 'The', '\\narticle', '', 'that', '', 'follows', '', 'is', '', 'a', '', 'special', '', 'feature', '', 'of', '', 'this', '', 'exhibition,', '', 'the', '', 'sixth', '', 'in', '', 'a', '', 'series', '', 'created', '', 'to', '', 'honor', '', 'and', '', 'educate', '', 'about', '', 'the', '\\ngeneration', '', 'that', '', 'won', '', 'World', '', 'War', '', 'II.', '', '', '', 'Featured', '', 'are', '', 'the', '', 'stories', '', 'of', '', 'real', '', 'people', '', 'from', '', 'the', '', '\\xe2\\x80\\x9cWorld', '', 'War', '', 'II', '', 'Participants']\n"
     ]
    }
   ],
   "source": [
    "with open('/tmp/t.txt') as f:\n",
    "    print f.read().split(' ')[:100]"
   ]
  },
  {
   "cell_type": "markdown",
   "metadata": {},
   "source": [
    "## Text processing from the command line\n",
    "\n",
    "It's often the case that we can do a huge amount of cleanup on unstructured text before using Python to process it more formally. We can convert everything to, delete unwanted characters, squeeze repeated characters, reformat, etc... In this section you will do a number of exercises that get you use to processing files from the command line. If you'd like to dig further, you can see [this link](http://www.tldp.org/LDP/abs/html/textproc.html).\n",
    "\n",
    "The operating system launches all commands in a pipeline sequence as separate processes, which means they can run on multiple processors. This gives us parallel processing without having to do any work. As data is completed by one stage, it passes it to the next stage of the pipeline, and continues to work on its input. The next stage consumes that input in parallel. Consequently, processing text from the command line can be extremely efficient, much more so than doing it in Python."
   ]
  },
  {
   "cell_type": "markdown",
   "metadata": {},
   "source": [
    "### Exercise\n",
    "\n",
    "Using the `tr` (translate) command from the terminal, strip all of the new lines from the text file you created above (`/tmp/t.txt`).  Look at the manual page with this command:\n",
    "\n",
    "```python\n",
    "$ man tr\n",
    "```\n",
    "\n",
    "You can pipe the output of `tr` to `head -c 150` to only print out the first 150 characters of the output."
   ]
  },
  {
   "cell_type": "code",
   "execution_count": 6,
   "metadata": {
    "collapsed": false,
    "scrolled": true
   },
   "outputs": [
    {
     "name": "stdout",
     "output_type": "stream",
     "text": [
      "World War II Remembered is a multi-year exhibition currently on display at the Eisenhower Presidential Museum.  The article  that  follows  is  a  spe"
     ]
    }
   ],
   "source": [
    "! tr -d '\\n' < /tmp/t.txt | head -c 150"
   ]
  },
  {
   "cell_type": "markdown",
   "metadata": {},
   "source": [
    "### Exercise\n",
    "\n",
    "Reformat the text using `tr` and `fold`. The `fold` command wraps lines at 80 characters; use its `-s` option to making break lines at spaces between words."
   ]
  },
  {
   "cell_type": "code",
   "execution_count": 9,
   "metadata": {
    "collapsed": false
   },
   "outputs": [
    {
     "name": "stdout",
     "output_type": "stream",
     "text": [
      "World War II Remembered is a multi-year exhibition currently on display at the \r\n",
      "Eisenhower Presidential Museum.  The article  that  follows  is  a  special  \r\n",
      "feature  of  this  exhibition,  the  sixth  in  a  series  created  to  honor  \r\n",
      "and  educate  about  the generation  that  won  World  War  II.    Featured  \r\n",
      "are  the  stories  of  real  people  from  the  “World  War  II  Participants  \r\n",
      "and Contemporaries” collection, held and preserved in the archives of the \r\n",
      "Eisenhower Presidential Library.         Dr. Maxwell Glen Berry       Mission, \r\n",
      "Kansas      U.S. Army, Pacific Theater  “Every  adult  American  alive  that  \r\n",
      "day  remembers where he heard the news of Pearl Harbor.  I heard it on my way \r\n",
      "home from Sunday rounds at St. Luke’s Hospital  in  Kansas  City.   The  \r\n"
     ]
    }
   ],
   "source": [
    "! tr -d '\\n' < /tmp/t.txt | fold -s | head -10"
   ]
  },
  {
   "cell_type": "markdown",
   "metadata": {},
   "source": [
    "### Exercise\n",
    "\n",
    "It is sometimes useful to put a line number at the left edge of all lines. For example, you might want to create a unique ID number for each row of a CSV file. Pipe the output of the previous command to `nl` so that you get the line number on the left edge."
   ]
  },
  {
   "cell_type": "code",
   "execution_count": 10,
   "metadata": {
    "collapsed": false
   },
   "outputs": [
    {
     "name": "stdout",
     "output_type": "stream",
     "text": [
      "     1\tWorld War II Remembered is a multi-year exhibition currently on display at the \r\n",
      "     2\tEisenhower Presidential Museum.  The article  that  follows  is  a  special  \r\n",
      "     3\tfeature  of  this  exhibition,  the  sixth  in  a  series  created  to  honor  \r\n",
      "     4\tand  educate  about  the generation  that  won  World  War  II.    Featured  \r\n",
      "     5\tare  the  stories  of  real  people  from  the  “World  War  II  Participants  \r\n",
      "     6\tand Contemporaries” collection, held and preserved in the archives of the \r\n",
      "     7\tEisenhower Presidential Library.         Dr. Maxwell Glen Berry       Mission, \r\n",
      "     8\tKansas      U.S. Army, Pacific Theater  “Every  adult  American  alive  that  \r\n",
      "     9\tday  remembers where he heard the news of Pearl Harbor.  I heard it on my way \r\n",
      "    10\thome from Sunday rounds at St. Luke’s Hospital  in  Kansas  City.   The  \r\n"
     ]
    }
   ],
   "source": [
    "! tr -d '\\n' < /tmp/t.txt | fold -s | nl | head -10"
   ]
  },
  {
   "cell_type": "markdown",
   "metadata": {},
   "source": [
    "### Exercise\n",
    "\n",
    "Convert the text to all lowercase using `tr`. Hint: `a-z` and `A-Z` are [regular expressions](http://www.rexegg.com/regex-quickstart.html) that describe e English characters and uppercase English characters."
   ]
  },
  {
   "cell_type": "code",
   "execution_count": 8,
   "metadata": {
    "collapsed": false,
    "scrolled": true
   },
   "outputs": [
    {
     "name": "stdout",
     "output_type": "stream",
     "text": [
      "world war ii remembered is a multi-year exhibition currently on display at the eisenhower presidential museum.  the \r\n",
      "article  that  follows  is  a  sp"
     ]
    }
   ],
   "source": [
    "! tr A-Z a-z < /tmp/t.txt | head -c 150"
   ]
  }
 ],
 "metadata": {
  "anaconda-cloud": {},
  "kernelspec": {
   "display_name": "Python 2",
   "language": "python",
   "name": "python2"
  },
  "language_info": {
   "codemirror_mode": {
    "name": "ipython",
    "version": 2
   },
   "file_extension": ".py",
   "mimetype": "text/x-python",
   "name": "python",
   "nbconvert_exporter": "python",
   "pygments_lexer": "ipython2",
   "version": "2.7.13"
  },
  "toc": {
   "colors": {
    "hover_highlight": "#DAA520",
    "navigate_num": "#000000",
    "navigate_text": "#333333",
    "running_highlight": "#FF0000",
    "selected_highlight": "#FFD700",
    "sidebar_border": "#EEEEEE",
    "wrapper_background": "#FFFFFF"
   },
   "moveMenuLeft": true,
   "nav_menu": {
    "height": "66px",
    "width": "252px"
   },
   "navigate_menu": true,
   "number_sections": true,
   "sideBar": true,
   "threshold": 4,
   "toc_cell": false,
   "toc_section_display": "block",
   "toc_window_display": false,
   "widenNotebook": false
  }
 },
 "nbformat": 4,
 "nbformat_minor": 2
}
