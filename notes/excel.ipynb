{
 "cells": [
  {
   "cell_type": "markdown",
   "metadata": {},
   "source": [
    "# CSV data\n",
    "\n",
    "**TODO**: Convert to using [csvkit](https://csvkit.readthedocs.io/en/1.0.2/) Much better!\n"
   ]
  },
  {
   "cell_type": "markdown",
   "metadata": {},
   "source": [
    "## Exporting data from Excel\n",
    "\n",
    "Data of interest that we want to process in Python often comes in the form of an Excel spreadsheet. The easiest way to get access to it is to export the data in CSV format.\n",
    "\n",
    "Let's get some data. Download [Sample Superstore Sales .xls file](https://community.tableau.com/docs/DOC-1236) or [my local copy](https://github.com/parrt/msan692/raw/master/data/SampleSuperstoreSales.xls) and open it in Excel. Select `File>Save As...` menu option and then \"Comma separated values (.csv)\" from the `Format:` drop-down menu. Set the filename to `SampleSuperstoreSales.csv` or similiar. That will warn you that the data cannot be saved as CSV without losing some information. Don't worry about that because it's only formatting and not data information that you will lose. Say \"Save Active Sheet\". Then it will helpfully give you a second warning. Tell it to continue.\n",
    "\n",
    "If you use `more` from the commandline, you will see some funny characters in the output:"
   ]
  },
  {
   "cell_type": "markdown",
   "metadata": {},
   "source": [
    "<img src=\"figures/csv-funny-char.png\" style=\"width:600px\">\n",
    "\n",
    "That weird `<A8>` character is character code 168 (or A8 in hexadecimal), which is the registered trademark symbol &#x00AE;.  From experience with these data formats, I know that Excel is saving things using a \"Latin-1\" text encoding (which allows 0..255 char values and defined accented characters and other special symbols beyond ASCII). That encoding is essentially ASCII but anything above code 127 is Euro-specific. So, we need to fix that by stripping those out. \n",
    "\n",
    "We can accomplish that using the [iconv](https://www.gnu.org/software/libiconv/) command from the terminal:"
   ]
  },
  {
   "cell_type": "code",
   "execution_count": 8,
   "metadata": {},
   "outputs": [],
   "source": [
    "! iconv -c -f latin1 -t ascii data/SampleSuperstoreSales.csv > /tmp/t.csv"
   ]
  },
  {
   "cell_type": "markdown",
   "metadata": {},
   "source": [
    "We could also pretend that it is encoded as UTF-8, which also allows the Latin-1 character set:\n",
    "\n",
    "```bash\n",
    "$ iconv -c -f utf-8 -t ascii SampleSuperstoreSales.csv > /tmp/t.csv\n",
    "```\n",
    "\n",
    "Ok, now we finally have some plain CSV data in `/tmp/t.csv` that we can pull into Python:"
   ]
  },
  {
   "cell_type": "code",
   "execution_count": 9,
   "metadata": {},
   "outputs": [
    {
     "name": "stdout",
     "output_type": "stream",
     "text": [
      "Row ID,Order ID,Order Date,Order Priority,Order Quantity,Sales,Discount,Ship Mode,Profit,Unit Price,Shipping Cost,Customer Name,Province,Region,Customer Segment,Product Category,Product Sub-Category,Product Name,Product Container,Product Base Margin,Ship Date\r",
      "\r\n",
      "1,3,10/13/10,Low,6,261.54,0.04,Regular Air,-213.25,38.94,35,Muhammed MacIntyre,Nunavut,Nunavut,Small Business,Office Supplies,Storage & Organization,\"Eldon Base for stackable storage shelf, platinum\",Large Box,0.8,10/20/10\r",
      "\r\n",
      "49,293,10/1/12,High,49,10123.02,0.07,Delivery Truck,457.81,208.16,68.02,Barry French,Nunavut,Nunavut,Consumer,Office Supplies,Appliances,\"1.7 Cubic Foot Compact \"\"Cube\"\" Office Refrigerators\",Jumbo Drum,0.58,10/2/12\r",
      "\r\n",
      "50,293,10/1/12,High,27,244.57,0.01,Regular Air,46.71,8.69,2.99,Barry French,Nunavut,Nunavut,Consumer,Office Supplies,Binders and Binder Accessories,\"Cardinal Slant-D Ring Binder, Heavy Gauge Vinyl\",Small Box,0.39,10/3/12\r",
      "\r\n"
     ]
    }
   ],
   "source": [
    "! head -4 /tmp/t.csv"
   ]
  },
  {
   "cell_type": "markdown",
   "metadata": {},
   "source": [
    "##  Dealing with commas double quotes in CSV\n",
    "\n",
    "For the most part, CSV files are very simple, but they can get complicated when we need to embed a comma. One such case from the above file shows how fields with commas get quoted:\n",
    "\n",
    "```\n",
    "\"Eldon Base for stackable storage shelf, platinum\"\n",
    "```\n",
    "\n",
    "What happens when we want to encode a quote? Well, somehow people decided that `\"\"` double quotes was the answer (not!) and we get fields encoded like this:\n",
    "\n",
    "```\n",
    "\"1.7 Cubic Foot Compact \"\"Cube\"\" Office Refrigerators\"\n",
    "```\n",
    "\n",
    "The good news is that Python's `csv` package knows how to read Excel-generated files that use such encoding. Here's a sample script that reads such a file into a list of lists:"
   ]
  },
  {
   "cell_type": "code",
   "execution_count": 2,
   "metadata": {},
   "outputs": [
    {
     "name": "stdout",
     "output_type": "stream",
     "text": [
      "hi\n",
      "['Row ID', 'Order ID', 'Order Date', 'Order Priority', 'Order Quantity', 'Sales', 'Discount', 'Ship Mode', 'Profit', 'Unit Price', 'Shipping Cost', 'Customer Name', 'Province', 'Region', 'Customer Segment', 'Product Category', 'Product Sub-Category', 'Product Name', 'Product Container', 'Product Base Margin', 'Ship Date']\n",
      "['1', '3', '10/13/10', 'Low', '6', '261.54', '0.04', 'Regular Air', '-213.25', '38.94', '35', 'Muhammed MacIntyre', 'Nunavut', 'Nunavut', 'Small Business', 'Office Supplies', 'Storage & Organization', 'Eldon Base for stackable storage shelf, platinum', 'Large Box', '0.8', '10/20/10']\n"
     ]
    }
   ],
   "source": [
    "import sys\n",
    "import csv\n",
    "print \"hi\"\n",
    "table_file = \"data/SampleSuperstoreSales.csv\"\n",
    "with open(table_file, \"rb\") as csvfile:\n",
    "    f = csv.reader(csvfile, dialect='excel')\n",
    "    data = []\n",
    "    for row in f:\n",
    "        data.append(row)\n",
    "\n",
    "print data[0]\n",
    "print data[1]"
   ]
  },
  {
   "cell_type": "markdown",
   "metadata": {},
   "source": [
    "We can extend that a little bit if we want that data in a numpy `array` (See the full [csv2numpy.py](https://github.com/parrt/msan692/blob/master/notes/code/csv2numpy.py)):"
   ]
  },
  {
   "cell_type": "code",
   "execution_count": 5,
   "metadata": {},
   "outputs": [
    {
     "name": "stdout",
     "output_type": "stream",
     "text": [
      "<type 'numpy.ndarray'>\n",
      "(8400, 21)\n",
      "[['Row ID' 'Order ID' 'Order Date' ..., 'Product Container'\n",
      "  'Product Base Margin' 'Ship Date']\n",
      " ['1' '3' '10/13/10' ..., 'Large Box' '0.8' '10/20/10']\n",
      " ['49' '293' '10/1/12' ..., 'Jumbo Drum' '0.58' '10/2/12']\n",
      " ..., \n",
      " ['7906' '56550' '4/8/11' ..., 'Small Pack' '0.41' '4/10/11']\n",
      " ['7907' '56550' '4/8/11' ..., 'Small Box' '0.56' '4/9/11']\n",
      " ['7914' '56581' '2/8/09' ..., 'Medium Box' '0.65' '2/11/09']]\n"
     ]
    }
   ],
   "source": [
    "import numpy as np\n",
    "npdata = np.array(data)\n",
    "print type(npdata)\n",
    "print npdata.shape # print the dimensions\n",
    "print npdata"
   ]
  },
  {
   "cell_type": "markdown",
   "metadata": {},
   "source": [
    "## Exercise\n",
    "\n",
    "Extract the quantity and unit price columns and multiply them together to get the sale value. My solution uses a list comprehension across the list of lists, one per column I need. Then I create a numpy array of those and simply multiply them with `*`. Remember that `data[1:]` gives you all but the first element (a row in this case) of a list. `float(x)` converts string or integer `x` to a floating point number. If you get stuck, see [readcsv.py](https://github.com/parrt/msan692/blob/master/notes/code/readcsv.py)."
   ]
  },
  {
   "cell_type": "markdown",
   "metadata": {},
   "source": [
    "## Pandas Data frames\n",
    "\n",
    "In the end, the easiest way to deal with loading CSV files is probably with [Pandas](http://pandas.pydata.org/). For example, to load our sales CSV, we don't even have to manually open and close a file:"
   ]
  },
  {
   "cell_type": "code",
   "execution_count": 12,
   "metadata": {},
   "outputs": [
    {
     "data": {
      "text/html": [
       "<div>\n",
       "<table border=\"1\" class=\"dataframe\">\n",
       "  <thead>\n",
       "    <tr style=\"text-align: right;\">\n",
       "      <th></th>\n",
       "      <th>Row ID</th>\n",
       "      <th>Order ID</th>\n",
       "      <th>Order Date</th>\n",
       "      <th>Order Priority</th>\n",
       "      <th>Order Quantity</th>\n",
       "      <th>Sales</th>\n",
       "      <th>Discount</th>\n",
       "      <th>Ship Mode</th>\n",
       "      <th>Profit</th>\n",
       "      <th>Unit Price</th>\n",
       "      <th>...</th>\n",
       "      <th>Customer Name</th>\n",
       "      <th>Province</th>\n",
       "      <th>Region</th>\n",
       "      <th>Customer Segment</th>\n",
       "      <th>Product Category</th>\n",
       "      <th>Product Sub-Category</th>\n",
       "      <th>Product Name</th>\n",
       "      <th>Product Container</th>\n",
       "      <th>Product Base Margin</th>\n",
       "      <th>Ship Date</th>\n",
       "    </tr>\n",
       "  </thead>\n",
       "  <tbody>\n",
       "    <tr>\n",
       "      <th>0</th>\n",
       "      <td>1</td>\n",
       "      <td>3</td>\n",
       "      <td>10/13/10</td>\n",
       "      <td>Low</td>\n",
       "      <td>6</td>\n",
       "      <td>261.5400</td>\n",
       "      <td>0.04</td>\n",
       "      <td>Regular Air</td>\n",
       "      <td>-213.25</td>\n",
       "      <td>38.94</td>\n",
       "      <td>...</td>\n",
       "      <td>Muhammed MacIntyre</td>\n",
       "      <td>Nunavut</td>\n",
       "      <td>Nunavut</td>\n",
       "      <td>Small Business</td>\n",
       "      <td>Office Supplies</td>\n",
       "      <td>Storage &amp; Organization</td>\n",
       "      <td>Eldon Base for stackable storage shelf, platinum</td>\n",
       "      <td>Large Box</td>\n",
       "      <td>0.80</td>\n",
       "      <td>10/20/10</td>\n",
       "    </tr>\n",
       "    <tr>\n",
       "      <th>1</th>\n",
       "      <td>49</td>\n",
       "      <td>293</td>\n",
       "      <td>10/1/12</td>\n",
       "      <td>High</td>\n",
       "      <td>49</td>\n",
       "      <td>10123.0200</td>\n",
       "      <td>0.07</td>\n",
       "      <td>Delivery Truck</td>\n",
       "      <td>457.81</td>\n",
       "      <td>208.16</td>\n",
       "      <td>...</td>\n",
       "      <td>Barry French</td>\n",
       "      <td>Nunavut</td>\n",
       "      <td>Nunavut</td>\n",
       "      <td>Consumer</td>\n",
       "      <td>Office Supplies</td>\n",
       "      <td>Appliances</td>\n",
       "      <td>1.7 Cubic Foot Compact \"Cube\" Office Refrigera...</td>\n",
       "      <td>Jumbo Drum</td>\n",
       "      <td>0.58</td>\n",
       "      <td>10/2/12</td>\n",
       "    </tr>\n",
       "    <tr>\n",
       "      <th>...</th>\n",
       "      <td>...</td>\n",
       "      <td>...</td>\n",
       "      <td>...</td>\n",
       "      <td>...</td>\n",
       "      <td>...</td>\n",
       "      <td>...</td>\n",
       "      <td>...</td>\n",
       "      <td>...</td>\n",
       "      <td>...</td>\n",
       "      <td>...</td>\n",
       "      <td>...</td>\n",
       "      <td>...</td>\n",
       "      <td>...</td>\n",
       "      <td>...</td>\n",
       "      <td>...</td>\n",
       "      <td>...</td>\n",
       "      <td>...</td>\n",
       "      <td>...</td>\n",
       "      <td>...</td>\n",
       "      <td>...</td>\n",
       "      <td>...</td>\n",
       "    </tr>\n",
       "    <tr>\n",
       "      <th>8397</th>\n",
       "      <td>7907</td>\n",
       "      <td>56550</td>\n",
       "      <td>4/8/11</td>\n",
       "      <td>Not Specified</td>\n",
       "      <td>8</td>\n",
       "      <td>469.8375</td>\n",
       "      <td>0.00</td>\n",
       "      <td>Regular Air</td>\n",
       "      <td>-159.24</td>\n",
       "      <td>65.99</td>\n",
       "      <td>...</td>\n",
       "      <td>Frank Hawley</td>\n",
       "      <td>Alberta</td>\n",
       "      <td>West</td>\n",
       "      <td>Home Office</td>\n",
       "      <td>Technology</td>\n",
       "      <td>Telephones and Communication</td>\n",
       "      <td>Talkabout T8367</td>\n",
       "      <td>Small Box</td>\n",
       "      <td>0.56</td>\n",
       "      <td>4/9/11</td>\n",
       "    </tr>\n",
       "    <tr>\n",
       "      <th>8398</th>\n",
       "      <td>7914</td>\n",
       "      <td>56581</td>\n",
       "      <td>2/8/09</td>\n",
       "      <td>High</td>\n",
       "      <td>20</td>\n",
       "      <td>2026.0100</td>\n",
       "      <td>0.10</td>\n",
       "      <td>Express Air</td>\n",
       "      <td>580.43</td>\n",
       "      <td>105.98</td>\n",
       "      <td>...</td>\n",
       "      <td>Grant Donatelli</td>\n",
       "      <td>Alberta</td>\n",
       "      <td>West</td>\n",
       "      <td>Consumer</td>\n",
       "      <td>Furniture</td>\n",
       "      <td>Office Furnishings</td>\n",
       "      <td>Tenex 46\" x 60\" Computer Anti-Static Chairmat,...</td>\n",
       "      <td>Medium Box</td>\n",
       "      <td>0.65</td>\n",
       "      <td>2/11/09</td>\n",
       "    </tr>\n",
       "  </tbody>\n",
       "</table>\n",
       "<p>8399 rows × 21 columns</p>\n",
       "</div>"
      ],
      "text/plain": [
       "      Row ID  Order ID Order Date Order Priority  Order Quantity       Sales  \\\n",
       "0          1         3   10/13/10            Low               6    261.5400   \n",
       "1         49       293    10/1/12           High              49  10123.0200   \n",
       "...      ...       ...        ...            ...             ...         ...   \n",
       "8397    7907     56550     4/8/11  Not Specified               8    469.8375   \n",
       "8398    7914     56581     2/8/09           High              20   2026.0100   \n",
       "\n",
       "      Discount       Ship Mode  Profit  Unit Price    ...      \\\n",
       "0         0.04     Regular Air -213.25       38.94    ...       \n",
       "1         0.07  Delivery Truck  457.81      208.16    ...       \n",
       "...        ...             ...     ...         ...    ...       \n",
       "8397      0.00     Regular Air -159.24       65.99    ...       \n",
       "8398      0.10     Express Air  580.43      105.98    ...       \n",
       "\n",
       "           Customer Name Province   Region Customer Segment Product Category  \\\n",
       "0     Muhammed MacIntyre  Nunavut  Nunavut   Small Business  Office Supplies   \n",
       "1           Barry French  Nunavut  Nunavut         Consumer  Office Supplies   \n",
       "...                  ...      ...      ...              ...              ...   \n",
       "8397        Frank Hawley  Alberta     West      Home Office       Technology   \n",
       "8398     Grant Donatelli  Alberta     West         Consumer        Furniture   \n",
       "\n",
       "              Product Sub-Category  \\\n",
       "0           Storage & Organization   \n",
       "1                       Appliances   \n",
       "...                            ...   \n",
       "8397  Telephones and Communication   \n",
       "8398            Office Furnishings   \n",
       "\n",
       "                                           Product Name Product Container  \\\n",
       "0      Eldon Base for stackable storage shelf, platinum         Large Box   \n",
       "1     1.7 Cubic Foot Compact \"Cube\" Office Refrigera...        Jumbo Drum   \n",
       "...                                                 ...               ...   \n",
       "8397                                    Talkabout T8367         Small Box   \n",
       "8398  Tenex 46\" x 60\" Computer Anti-Static Chairmat,...        Medium Box   \n",
       "\n",
       "     Product Base Margin  Ship Date  \n",
       "0                   0.80   10/20/10  \n",
       "1                   0.58    10/2/12  \n",
       "...                  ...        ...  \n",
       "8397                0.56     4/9/11  \n",
       "8398                0.65    2/11/09  \n",
       "\n",
       "[8399 rows x 21 columns]"
      ]
     },
     "execution_count": 12,
     "metadata": {},
     "output_type": "execute_result"
    }
   ],
   "source": [
    "import pandas\n",
    "pandas.options.display.max_rows = 4 # Don't display too much data (Pandas)\n",
    "table = pandas.read_csv(\"data/SampleSuperstoreSales.csv\")\n",
    "table"
   ]
  },
  {
   "cell_type": "markdown",
   "metadata": {},
   "source": [
    "Pandas hides all of the details. I also find that pulling out columns is nice with pandas. Here's how to print the customer name column:"
   ]
  },
  {
   "cell_type": "code",
   "execution_count": 13,
   "metadata": {},
   "outputs": [
    {
     "data": {
      "text/plain": [
       "0       Muhammed MacIntyre\n",
       "1             Barry French\n",
       "               ...        \n",
       "8397          Frank Hawley\n",
       "8398       Grant Donatelli\n",
       "Name: Customer Name, dtype: object"
      ]
     },
     "execution_count": 13,
     "metadata": {},
     "output_type": "execute_result"
    }
   ],
   "source": [
    "names = table['Customer Name']\n",
    "names"
   ]
  },
  {
   "cell_type": "markdown",
   "metadata": {},
   "source": [
    "I also like to convert this to a numpy matrix so that I can pull out various rows conveniently:"
   ]
  },
  {
   "cell_type": "code",
   "execution_count": 14,
   "metadata": {},
   "outputs": [
    {
     "name": "stdout",
     "output_type": "stream",
     "text": [
      "[[1 3 '10/13/10' 'Low' 6 261.54 0.04 'Regular Air' -213.25 38.94 35.0\n",
      "  'Muhammed MacIntyre' 'Nunavut' 'Nunavut' 'Small Business'\n",
      "  'Office Supplies' 'Storage & Organization'\n",
      "  'Eldon Base for stackable storage shelf, platinum' 'Large Box' 0.8\n",
      "  '10/20/10']\n",
      " [49 293 '10/1/12' 'High' 49 10123.02 0.07 'Delivery Truck' 457.81 208.16\n",
      "  68.02 'Barry French' 'Nunavut' 'Nunavut' 'Consumer' 'Office Supplies'\n",
      "  'Appliances' '1.7 Cubic Foot Compact \"Cube\" Office Refrigerators'\n",
      "  'Jumbo Drum' 0.58 '10/2/12']]\n"
     ]
    }
   ],
   "source": [
    "m = table.as_matrix()\n",
    "print m[0:2]"
   ]
  },
  {
   "cell_type": "markdown",
   "metadata": {},
   "source": [
    "You can learn more about [slicing and dicing data](https://github.com/parrt/msan501/blob/master/notes/data.ipynb) from our Boot Camp notes."
   ]
  },
  {
   "cell_type": "markdown",
   "metadata": {},
   "source": [
    "### Exercise\n",
    "\n",
    "From the sales CSV file on the net and use pandas to read in the data adn extract the `Profit` and `Unit Price` columns into a new data frame. Hint: You can use a list of column names like `['Profit','Unit Price']` as a data frame index."
   ]
  },
  {
   "cell_type": "code",
   "execution_count": 15,
   "metadata": {},
   "outputs": [
    {
     "data": {
      "text/html": [
       "<div>\n",
       "<table border=\"1\" class=\"dataframe\">\n",
       "  <thead>\n",
       "    <tr style=\"text-align: right;\">\n",
       "      <th></th>\n",
       "      <th>Profit</th>\n",
       "      <th>Unit Price</th>\n",
       "    </tr>\n",
       "  </thead>\n",
       "  <tbody>\n",
       "    <tr>\n",
       "      <th>0</th>\n",
       "      <td>-213.25</td>\n",
       "      <td>38.94</td>\n",
       "    </tr>\n",
       "    <tr>\n",
       "      <th>1</th>\n",
       "      <td>457.81</td>\n",
       "      <td>208.16</td>\n",
       "    </tr>\n",
       "    <tr>\n",
       "      <th>...</th>\n",
       "      <td>...</td>\n",
       "      <td>...</td>\n",
       "    </tr>\n",
       "    <tr>\n",
       "      <th>8397</th>\n",
       "      <td>-159.24</td>\n",
       "      <td>65.99</td>\n",
       "    </tr>\n",
       "    <tr>\n",
       "      <th>8398</th>\n",
       "      <td>580.43</td>\n",
       "      <td>105.98</td>\n",
       "    </tr>\n",
       "  </tbody>\n",
       "</table>\n",
       "<p>8399 rows × 2 columns</p>\n",
       "</div>"
      ],
      "text/plain": [
       "      Profit  Unit Price\n",
       "0    -213.25       38.94\n",
       "1     457.81      208.16\n",
       "...      ...         ...\n",
       "8397 -159.24       65.99\n",
       "8398  580.43      105.98\n",
       "\n",
       "[8399 rows x 2 columns]"
      ]
     },
     "execution_count": 15,
     "metadata": {},
     "output_type": "execute_result"
    }
   ],
   "source": [
    "table = pandas.read_csv(\"data/SampleSuperstoreSales.csv\")\n",
    "table[['Profit','Unit Price']]"
   ]
  }
 ],
 "metadata": {
  "anaconda-cloud": {},
  "kernelspec": {
   "display_name": "Python [default]",
   "language": "python",
   "name": "python2"
  },
  "language_info": {
   "codemirror_mode": {
    "name": "ipython",
    "version": 2
   },
   "file_extension": ".py",
   "mimetype": "text/x-python",
   "name": "python",
   "nbconvert_exporter": "python",
   "pygments_lexer": "ipython2",
   "version": "2.7.12"
  },
  "toc": {
   "colors": {
    "hover_highlight": "#DAA520",
    "navigate_num": "#000000",
    "navigate_text": "#333333",
    "running_highlight": "#FF0000",
    "selected_highlight": "#FFD700",
    "sidebar_border": "#EEEEEE",
    "wrapper_background": "#FFFFFF"
   },
   "moveMenuLeft": true,
   "nav_menu": {
    "height": "130px",
    "width": "252px"
   },
   "navigate_menu": true,
   "number_sections": true,
   "sideBar": true,
   "threshold": 4,
   "toc_cell": false,
   "toc_section_display": "block",
   "toc_window_display": false,
   "widenNotebook": false
  }
 },
 "nbformat": 4,
 "nbformat_minor": 1
}
